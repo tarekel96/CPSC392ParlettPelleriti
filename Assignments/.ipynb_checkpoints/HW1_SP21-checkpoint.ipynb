{
 "cells": [
  {
   "cell_type": "markdown",
   "metadata": {},
   "source": [
    "# HW1\n",
    "\n",
    "GENERAL INSTRUCTIONS:\n",
    "\n",
    "- For all ggplots, make sure you make changes so that the data viz is effective, clear, and does not contain distracting elements.\n",
    "- CLEARLY mark where you are answering each question.\n",
    "- Show all code necessary for the analysis, but remove superfluous code\n",
    "\n",
    "---\n",
    "## 1\n",
    "\n",
    "Using the dataset linked [here](https://raw.githubusercontent.com/cmparlettpelleriti/CPSC392ParlettPelleriti/master/Data/reactionTime.csv), build a linear regression model to predict *reaction time* based on all the other variables. \n",
    "\n",
    "<ul>\n",
    "    <li> a) use an 80/20 train test split for model validation and make sure you z score your continuous variables\n",
    "    \n",
    "<li> b) check the linearity assumption for your continuous variables using ggplot. Discuss in detail what you are checking for and what you see for this model.\n",
    "<li> c) check heteroskedasticity by plotting predicted reaction times/residuals using ggplot. Discuss in detail what you are checking for and what you see for this model.\n",
    "<li> d) discuss in detail which metrics you use to check your model performance and why, and whether you think your model did well.\n",
    "</ul> \n",
    "\n",
    "Feel free to add cells to this notebook in order to execute the code, but for parts b,c, and d, make sure you put the discussion part in a *Markdown* cell, do not use code comments to answer. "
   ]
  },
  {
   "cell_type": "code",
   "execution_count": 1,
   "metadata": {},
   "outputs": [],
   "source": [
    "# import necessary packages\n"
   ]
  },
  {
   "cell_type": "code",
   "execution_count": 2,
   "metadata": {},
   "outputs": [],
   "source": [
    "# code"
   ]
  },
  {
   "cell_type": "markdown",
   "metadata": {},
   "source": [
    "Markdown Answers"
   ]
  },
  {
   "cell_type": "markdown",
   "metadata": {},
   "source": [
    "## 2\n",
    "Using the data set linked [here](https://raw.githubusercontent.com/cmparlettpelleriti/CPSC392ParlettPelleriti/master/Data/fellAsleep.csv), build a logistic regression model that predicts whether or not someone fell asleep during the experiment based on all the other variables.\n",
    "<ul>\n",
    "<li> a) use k-fold cross validation and make sure to z score your continuous variables\n",
    "<li> b) once you have used k-fold to validate your model's performance, fit another separate logistic regression with ALL the data. Grab the coefficients, put them in a data frame, add a column to the data frame with the names of the predictors, and make a bar chart (using ggplot) showing the magnitude of each coefficient. Your coef data frame should look like this:"
   ]
  },
  {
   "cell_type": "markdown",
   "metadata": {},
   "source": [
    "| PredictorName | CoefficientValue |\n",
    "|---------------|-------------------|\n",
    "| Predictor_1   | xx.xx             |\n",
    "| Predictor_2   | xx.xx             |\n",
    "| ...           | ...               |\n",
    "| Predictor_N   | xx.xx             |"
   ]
  },
  {
   "cell_type": "markdown",
   "metadata": {},
   "source": [
    "Where `Predictor_1`, `Predictor_2`...`Predictor_N` are the names of your predictors and `xx.xx`s are your coefficient values.\n",
    "\n",
    "<li> c) using this graph and the table of coefs generated above, interpret/discuss all your coefficients as if you were explaining the results to a non-data scientist. Include in your explanation, the reason for presenting the coefs in log odds, odds, or probability form.\n",
    "<li> d) discuss in detail which metrics you use to check your model performance and why, and whether you think your model did well.\n",
    "</ul>\n",
    "\n",
    "\n",
    "\n",
    "Feel free to add cells to this notebook in order to execute the code, but for parts c and d, make sure you put the discussion part in a *Markdown* cell, do not use code comments to answer. CLEARLY mark where you are answering each question."
   ]
  },
  {
   "cell_type": "code",
   "execution_count": 3,
   "metadata": {},
   "outputs": [],
   "source": [
    "# import necessary packages\n"
   ]
  },
  {
   "cell_type": "code",
   "execution_count": 4,
   "metadata": {},
   "outputs": [],
   "source": [
    "# code"
   ]
  },
  {
   "cell_type": "markdown",
   "metadata": {},
   "source": [
    "Markdown Answers"
   ]
  }
 ],
 "metadata": {
  "hide_input": false,
  "kernelspec": {
   "display_name": "Python 3",
   "language": "python",
   "name": "python3"
  },
  "language_info": {
   "codemirror_mode": {
    "name": "ipython",
    "version": 3
   },
   "file_extension": ".py",
   "mimetype": "text/x-python",
   "name": "python",
   "nbconvert_exporter": "python",
   "pygments_lexer": "ipython3",
   "version": "3.9.1"
  },
  "toc": {
   "base_numbering": 1,
   "nav_menu": {},
   "number_sections": true,
   "sideBar": true,
   "skip_h1_title": false,
   "title_cell": "Table of Contents",
   "title_sidebar": "Contents",
   "toc_cell": false,
   "toc_position": {},
   "toc_section_display": true,
   "toc_window_display": false
  }
 },
 "nbformat": 4,
 "nbformat_minor": 4
}
