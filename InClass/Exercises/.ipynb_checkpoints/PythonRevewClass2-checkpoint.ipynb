{
 "cells": [
  {
   "cell_type": "code",
   "execution_count": 124,
   "metadata": {},
   "outputs": [],
   "source": [
    "# import the necessary packages\n",
    "import warnings\n",
    "warnings.filterwarnings('ignore')\n",
    "\n",
    "import pandas as pd\n",
    "import numpy as np\n",
    "\n",
    "from sklearn.cluster import KMeans\n",
    "from sklearn.metrics import silhouette_score"
   ]
  },
  {
   "cell_type": "markdown",
   "metadata": {},
   "source": [
    "# Basics\n",
    "\n",
    "## Indexing\n",
    "\n",
    "In python, when an object is a collection (like a list, a tuple, or a string...etc), you can specify which items you want from that collection by putting the *index* (or multiple indices) of the item in square brackets."
   ]
  },
  {
   "cell_type": "code",
   "execution_count": 125,
   "metadata": {},
   "outputs": [
    {
     "data": {
      "text/plain": [
       "15"
      ]
     },
     "execution_count": 125,
     "metadata": {},
     "output_type": "execute_result"
    }
   ],
   "source": [
    "my_list = [4,8,15,16,23,42]\n",
    "\n",
    "# grab 15 from the list above\n",
    "\n",
    "my_list[2] # remember indexing begins at 0"
   ]
  },
  {
   "cell_type": "code",
   "execution_count": 126,
   "metadata": {},
   "outputs": [
    {
     "data": {
      "text/plain": [
       "'better'"
      ]
     },
     "execution_count": 126,
     "metadata": {},
     "output_type": "execute_result"
    }
   ],
   "source": [
    "my_string = \"Beautiful is better than ugly. Explicit is better than implicit. Simple is better than complex. Complex is better than complicated.\"\n",
    "\n",
    "# grab \"better\" from my_string\n",
    "\n",
    "my_string[13:19]"
   ]
  },
  {
   "cell_type": "code",
   "execution_count": 127,
   "metadata": {},
   "outputs": [
    {
     "data": {
      "text/plain": [
       "50"
      ]
     },
     "execution_count": 127,
     "metadata": {},
     "output_type": "execute_result"
    }
   ],
   "source": [
    "my_tuple = (50,100,25)\n",
    "\n",
    "# grab 50 from my_tuple\n",
    "\n",
    "my_tuple[0]"
   ]
  },
  {
   "cell_type": "markdown",
   "metadata": {},
   "source": [
    "Dictionaries, because they're not ordered, rely on key-value pairs rather than numeric indices. To grab a value from a dictionary, specify the key related to the value you'd like."
   ]
  },
  {
   "cell_type": "code",
   "execution_count": 128,
   "metadata": {},
   "outputs": [
    {
     "data": {
      "text/plain": [
       "'Jake'"
      ]
     },
     "execution_count": 128,
     "metadata": {},
     "output_type": "execute_result"
    }
   ],
   "source": [
    "my_dict = {\"Happy\": True, \"Age\": 45, \"Name\": \"Janice\", \"Children\": [\"Ted\", \"Alan\", \"Jake\"]}\n",
    "\n",
    "# grab name of 3rd child, Jake, from my_dict\n",
    "\n",
    "my_dict[\"Children\"][2] # from value associated with the key Children, grab the item @ the 2nd index"
   ]
  },
  {
   "cell_type": "markdown",
   "metadata": {},
   "source": [
    "## Your Turn\n",
    "\n",
    "From the object `CPSC392`, grab the average quiz grade for Carla.\n",
    "<img src=\"https://drive.google.com/uc?export=view&id=1ghyQPx1N8dmU3MV4TrANvqNhGwnLni72\" width = 200px />"
   ]
  },
  {
   "cell_type": "code",
   "execution_count": 129,
   "metadata": {},
   "outputs": [],
   "source": [
    "CPSC392 = {\"Jimmy\": {\"QuizGrades\": [9,5,9,8,7], \"Major\": \"Computer Science\"},\n",
    "          \"Brenda\": {\"QuizGrades\": [9,10,9,10,7], \"Major\": \"Business\"},\n",
    "          \"Jacqueline\": {\"QuizGrades\": [3,6,2,8,9], \"Major\": \"Computer Science\"},\n",
    "          \"Bethany\": {\"QuizGrades\": [2,2,0,4,5], \"Major\": \"Business\"},\n",
    "          \"Kristen\": {\"QuizGrades\": [9,7,9,9,9], \"Major\": \"Computer Science\"},\n",
    "          \"Elissa\": {\"QuizGrades\": [4,4,5,8,2], \"Major\": \"Foreign Languages\"},\n",
    "          \"Carly\": {\"QuizGrades\": [7,6,8,7,9], \"Major\": \"Biology\"}}\n",
    "\n",
    "###"
   ]
  },
  {
   "cell_type": "markdown",
   "metadata": {
    "heading_collapsed": true
   },
   "source": [
    "## Range\n",
    "\n",
    "You can use the `range()` function in order to get a sequence of integers. Range takes 3 arguments:\n",
    "\n",
    "- `start`: which number to start at\n",
    "- `stop`: which number to stop at (this number itself is not included)\n",
    "- `step`: what incrememnt to step by (default is 1, `step = 2` would give you every other integer)"
   ]
  },
  {
   "cell_type": "code",
   "execution_count": 130,
   "metadata": {
    "hidden": true
   },
   "outputs": [
    {
     "name": "stdout",
     "output_type": "stream",
     "text": [
      "[0, 2, 4, 6, 8, 10, 12, 14, 16, 18, 20, 22, 24, 26, 28, 30, 32, 34, 36, 38, 40, 42, 44, 46, 48, 50, 52, 54, 56, 58, 60, 62, 64, 66, 68, 70, 72, 74, 76, 78, 80, 82, 84, 86, 88, 90, 92, 94, 96, 98]\n"
     ]
    }
   ],
   "source": [
    "r = range(0,100,2)\n",
    "\n",
    "r_list = list(r) # just to print it out\n",
    "\n",
    "print(r_list)"
   ]
  },
  {
   "cell_type": "code",
   "execution_count": 131,
   "metadata": {
    "hidden": true
   },
   "outputs": [
    {
     "name": "stdout",
     "output_type": "stream",
     "text": [
      "[10, 11, 12, 13, 14, 15, 16, 17, 18, 19, 20, 21, 22, 23]\n"
     ]
    }
   ],
   "source": [
    "s = range(10, 24)\n",
    "\n",
    "s_list = list(s)\n",
    "\n",
    "print(s_list)"
   ]
  },
  {
   "cell_type": "markdown",
   "metadata": {},
   "source": [
    "# Functions\n",
    "\n",
    "If you need to review: [Video 1](https://www.youtube.com/watch?v=dU5nyLfq7J0), [Video 2](https://www.youtube.com/watch?v=vp50OR-gwTY)\n",
    "\n",
    "Functions are a way to write multi-use code that can be called over and over in different circumstances. Functions are groups/suites of code that perform a specific calculation given variable inputs. Functions allow us to change the inputs we are operating on through *arguments* which are given to the function when you define and call the function. For example, in the code below which defines the function `square()`, the argument `n` tells us which number to square:"
   ]
  },
  {
   "cell_type": "code",
   "execution_count": 132,
   "metadata": {},
   "outputs": [],
   "source": [
    "def square(n):\n",
    "    return(n*n)"
   ]
  },
  {
   "cell_type": "markdown",
   "metadata": {},
   "source": [
    "## Arguments\n",
    "The argument `n` is a variable which will hold whatever number we give the function when calling it. For example, if I want to square the number 7 I would use this code:"
   ]
  },
  {
   "cell_type": "code",
   "execution_count": 133,
   "metadata": {},
   "outputs": [
    {
     "data": {
      "text/plain": [
       "49"
      ]
     },
     "execution_count": 133,
     "metadata": {},
     "output_type": "execute_result"
    }
   ],
   "source": [
    "square(7)"
   ]
  },
  {
   "cell_type": "markdown",
   "metadata": {},
   "source": [
    "in this case, `n` will be equal to `7`, and every time we reference `n` in the function code, we will use `7`. We could also use other numbers. For example:"
   ]
  },
  {
   "cell_type": "code",
   "execution_count": 134,
   "metadata": {},
   "outputs": [
    {
     "data": {
      "text/plain": [
       "144"
      ]
     },
     "execution_count": 134,
     "metadata": {},
     "output_type": "execute_result"
    }
   ],
   "source": [
    "square(n = 12)"
   ]
  },
  {
   "cell_type": "markdown",
   "metadata": {},
   "source": [
    "Notice that you can explicitly tell python which argument you're setting when calling the function by saying the name of the argument (here: `n`) `=` the value for that argument (here: `12`). \n",
    "\n",
    "\n",
    "## Default Arguments\n",
    "When *defining* a function, you can set *default arguments*, which are values that the function can use if the user does not provide values for that specific argument. For example, in our `square()` function, we can specify that if the user does not provide a value for `n`, then the function should use `n = 1`. We set default arguments by giving the argument a value when *defining* the function."
   ]
  },
  {
   "cell_type": "code",
   "execution_count": 135,
   "metadata": {},
   "outputs": [],
   "source": [
    "def square(n = 1):\n",
    "    return(n*n)"
   ]
  },
  {
   "cell_type": "markdown",
   "metadata": {},
   "source": [
    "When defining functions, arguments with NO default must come before arguments with a default. For example in this function that multiplies two numbers, `a` and `b`, the argument `a` must appear first in the parentheses when defining `mult()` because it does NOT have a default value, while `b` does."
   ]
  },
  {
   "cell_type": "code",
   "execution_count": 136,
   "metadata": {},
   "outputs": [],
   "source": [
    "def mult(a, b = 2):\n",
    "    return(a * b)"
   ]
  },
  {
   "cell_type": "markdown",
   "metadata": {},
   "source": [
    "Default arguments allow users to call the function without spefifying a value for that argument. For example if we called `square()` as defined in this section *without* an argument, it would return `1`, because it uses the default value of 1 when no value for `n` is given.\n",
    "\n",
    "## Calling vs. Defining Functions\n",
    "\n",
    "When you define a function, you're giving python instructions about what to do *if* you ever call that function. This is why when you write your `def` statement, and run the code, nothing actually outputs. This is because when you run a function definition, you are just asking python to *store* the directions for later. To actually execute the function, you need to *call* it. \n",
    "\n",
    "For example when you run the below cell. Nothing will output."
   ]
  },
  {
   "cell_type": "code",
   "execution_count": 137,
   "metadata": {},
   "outputs": [],
   "source": [
    "# FUNCTION DEFINITION\n",
    "\n",
    "def censorDang(sentence):\n",
    "    # this function takes in a sentence as a string and returns the same\n",
    "    # sentence censored for any occurance of the word \"dang\".\n",
    "    \n",
    "    sentence_list = sentence.split()\n",
    "    \n",
    "    for i in range(0,len(sentence_list)):\n",
    "        if sentence_list[i].lower() == \"dang\":\n",
    "            sentence_list[i] = \"****\"\n",
    "            \n",
    "    return(\" \".join(sentence_list))"
   ]
  },
  {
   "cell_type": "markdown",
   "metadata": {},
   "source": [
    "But when you call the function in the following cell, python will actually execute the code and there will be an output."
   ]
  },
  {
   "cell_type": "code",
   "execution_count": 138,
   "metadata": {},
   "outputs": [
    {
     "data": {
      "text/plain": [
       "'**** this is good tea.'"
      ]
     },
     "execution_count": 138,
     "metadata": {},
     "output_type": "execute_result"
    }
   ],
   "source": [
    "## FUNCTION CALL\n",
    "\n",
    "censorDang(\"Dang this is good tea.\")"
   ]
  },
  {
   "cell_type": "markdown",
   "metadata": {},
   "source": [
    "Remember that when you're writing a function, the arguments are just placeholders or variables. They don't refer to specific objects/values, they're meant to be malleable. So for example, when I wrote `censorDang()`, I didn't write it with a *specific* sentence in mind. The function should work for any sentence!\n",
    "\n",
    "## Your Turn\n",
    "\n",
    "Write a function, `max_list()` that takes in a list of numbers as an argument, and returns the maximum value of that list.\n",
    "\n",
    "<img src=\"https://drive.google.com/uc?export=view&id=1ghyQPx1N8dmU3MV4TrANvqNhGwnLni72\" width = 200px />"
   ]
  },
  {
   "cell_type": "code",
   "execution_count": 139,
   "metadata": {},
   "outputs": [],
   "source": [
    "###"
   ]
  },
  {
   "cell_type": "markdown",
   "metadata": {},
   "source": [
    "Write a function, `q_finder()` that takes in a list of words/strings as an argument, and returns a list of only the words that contain q (upper OR lower case).\n",
    "\n",
    "<img src=\"https://drive.google.com/uc?export=view&id=1ghyQPx1N8dmU3MV4TrANvqNhGwnLni72\" width = 200px />"
   ]
  },
  {
   "cell_type": "code",
   "execution_count": 140,
   "metadata": {},
   "outputs": [],
   "source": [
    "###"
   ]
  },
  {
   "cell_type": "markdown",
   "metadata": {},
   "source": [
    "Write a function `cluster_subsetter()` that takes in a data frame (see example below), `df`,  and a string `cluster`, as arguments, and returns a data frame with only the rows who are in the cluster specified by `cluster`.\n",
    "\n",
    "<img src=\"https://drive.google.com/uc?export=view&id=1ghyQPx1N8dmU3MV4TrANvqNhGwnLni72\" width = 200px />"
   ]
  },
  {
   "cell_type": "code",
   "execution_count": 141,
   "metadata": {},
   "outputs": [
    {
     "data": {
      "text/html": [
       "<div>\n",
       "<style scoped>\n",
       "    .dataframe tbody tr th:only-of-type {\n",
       "        vertical-align: middle;\n",
       "    }\n",
       "\n",
       "    .dataframe tbody tr th {\n",
       "        vertical-align: top;\n",
       "    }\n",
       "\n",
       "    .dataframe thead th {\n",
       "        text-align: right;\n",
       "    }\n",
       "</style>\n",
       "<table border=\"1\" class=\"dataframe\">\n",
       "  <thead>\n",
       "    <tr style=\"text-align: right;\">\n",
       "      <th></th>\n",
       "      <th>x</th>\n",
       "      <th>y</th>\n",
       "      <th>cluster</th>\n",
       "    </tr>\n",
       "  </thead>\n",
       "  <tbody>\n",
       "    <tr>\n",
       "      <th>0</th>\n",
       "      <td>0.823308</td>\n",
       "      <td>0.779586</td>\n",
       "      <td>A</td>\n",
       "    </tr>\n",
       "    <tr>\n",
       "      <th>1</th>\n",
       "      <td>0.775427</td>\n",
       "      <td>0.082398</td>\n",
       "      <td>A</td>\n",
       "    </tr>\n",
       "    <tr>\n",
       "      <th>2</th>\n",
       "      <td>0.559344</td>\n",
       "      <td>0.060296</td>\n",
       "      <td>A</td>\n",
       "    </tr>\n",
       "    <tr>\n",
       "      <th>3</th>\n",
       "      <td>0.043983</td>\n",
       "      <td>0.153597</td>\n",
       "      <td>A</td>\n",
       "    </tr>\n",
       "    <tr>\n",
       "      <th>4</th>\n",
       "      <td>0.415714</td>\n",
       "      <td>0.873494</td>\n",
       "      <td>A</td>\n",
       "    </tr>\n",
       "    <tr>\n",
       "      <th>...</th>\n",
       "      <td>...</td>\n",
       "      <td>...</td>\n",
       "      <td>...</td>\n",
       "    </tr>\n",
       "    <tr>\n",
       "      <th>95</th>\n",
       "      <td>0.581292</td>\n",
       "      <td>0.828014</td>\n",
       "      <td>C</td>\n",
       "    </tr>\n",
       "    <tr>\n",
       "      <th>96</th>\n",
       "      <td>0.835584</td>\n",
       "      <td>0.668196</td>\n",
       "      <td>C</td>\n",
       "    </tr>\n",
       "    <tr>\n",
       "      <th>97</th>\n",
       "      <td>0.322225</td>\n",
       "      <td>0.463567</td>\n",
       "      <td>C</td>\n",
       "    </tr>\n",
       "    <tr>\n",
       "      <th>98</th>\n",
       "      <td>0.018316</td>\n",
       "      <td>0.976173</td>\n",
       "      <td>C</td>\n",
       "    </tr>\n",
       "    <tr>\n",
       "      <th>99</th>\n",
       "      <td>0.733912</td>\n",
       "      <td>0.302360</td>\n",
       "      <td>C</td>\n",
       "    </tr>\n",
       "  </tbody>\n",
       "</table>\n",
       "<p>100 rows × 3 columns</p>\n",
       "</div>"
      ],
      "text/plain": [
       "           x         y cluster\n",
       "0   0.823308  0.779586       A\n",
       "1   0.775427  0.082398       A\n",
       "2   0.559344  0.060296       A\n",
       "3   0.043983  0.153597       A\n",
       "4   0.415714  0.873494       A\n",
       "..       ...       ...     ...\n",
       "95  0.581292  0.828014       C\n",
       "96  0.835584  0.668196       C\n",
       "97  0.322225  0.463567       C\n",
       "98  0.018316  0.976173       C\n",
       "99  0.733912  0.302360       C\n",
       "\n",
       "[100 rows x 3 columns]"
      ]
     },
     "execution_count": 141,
     "metadata": {},
     "output_type": "execute_result"
    }
   ],
   "source": [
    "d = pd.DataFrame({\"x\": np.random.uniform(0,1,size = 100),\n",
    "                 \"y\" : np.random.uniform(0,1,size = 100),\n",
    "                 \"cluster\" : np.repeat([\"A\", \"B\", \"C\"], [50,20,30]) })\n",
    "d\n",
    "# cluster_subsetter(d,\"A\") should return only the rows in d that belong in cluster \"A\"\n",
    "\n",
    "\n",
    "###"
   ]
  },
  {
   "cell_type": "markdown",
   "metadata": {},
   "source": [
    "# List Comprehension\n",
    "\n",
    "## List Comp Intro\n",
    "\n",
    "List comprehension is a way to create lists using iteration, essentially as an alternative to using a for loop. \n",
    "\n",
    "If a for loop looks like this:"
   ]
  },
  {
   "cell_type": "code",
   "execution_count": 142,
   "metadata": {},
   "outputs": [],
   "source": [
    "my_list = []\n",
    "\n",
    "for i in range(0,10):\n",
    "    my_list.append(i**2)"
   ]
  },
  {
   "cell_type": "markdown",
   "metadata": {},
   "source": [
    "then the list comprehension would look like this:"
   ]
  },
  {
   "cell_type": "code",
   "execution_count": 143,
   "metadata": {},
   "outputs": [],
   "source": [
    "my_list2 = [i**2 for i in range(0,10)]"
   ]
  },
  {
   "cell_type": "markdown",
   "metadata": {},
   "source": [
    "## Other examples:"
   ]
  },
  {
   "cell_type": "markdown",
   "metadata": {},
   "source": [
    "### making a list of all lower case letters in a string"
   ]
  },
  {
   "cell_type": "code",
   "execution_count": 144,
   "metadata": {},
   "outputs": [],
   "source": [
    "# for loop\n",
    "censored_list = []\n",
    "\n",
    "s = \"The rain in Spain falls mainly in the plains\"\n",
    "\n",
    "for letter in s:\n",
    "    censored_list.append(letter.lower())"
   ]
  },
  {
   "cell_type": "code",
   "execution_count": 145,
   "metadata": {},
   "outputs": [
    {
     "data": {
      "text/plain": [
       "True"
      ]
     },
     "execution_count": 145,
     "metadata": {},
     "output_type": "execute_result"
    }
   ],
   "source": [
    "# list comp\n",
    "\n",
    "censored_list2 = [letter.lower() for letter in s]\n",
    "\n",
    "censored_list == censored_list2"
   ]
  },
  {
   "cell_type": "markdown",
   "metadata": {},
   "source": [
    "### calculating factorials for a bunch of numbers\n"
   ]
  },
  {
   "cell_type": "code",
   "execution_count": 146,
   "metadata": {},
   "outputs": [],
   "source": [
    "# for loop\n",
    "\n",
    "factorials = []\n",
    "\n",
    "def factorial(n):\n",
    "    mult = range(1,n+1)\n",
    "    p = 1\n",
    "    for i in mult:\n",
    "        p = p * i\n",
    "    return(p)\n",
    "        \n",
    "n = [2,5,6,10,144]\n",
    "fac = []\n",
    "for num in n:\n",
    "    fac.append(factorial(num))"
   ]
  },
  {
   "cell_type": "code",
   "execution_count": 147,
   "metadata": {},
   "outputs": [
    {
     "data": {
      "text/plain": [
       "True"
      ]
     },
     "execution_count": 147,
     "metadata": {},
     "output_type": "execute_result"
    }
   ],
   "source": [
    "# list comp\n",
    "\n",
    "fac2 = [factorial(num) for num in n]\n",
    "\n",
    "fac == fac2"
   ]
  },
  {
   "cell_type": "markdown",
   "metadata": {},
   "source": [
    "### multiplying all possible combos of items from two lists together\n",
    "You can even do combine 2 for loops into 1 list comprehension!\n",
    "\n"
   ]
  },
  {
   "cell_type": "code",
   "execution_count": 148,
   "metadata": {
    "code_folding": []
   },
   "outputs": [],
   "source": [
    "# for loop\n",
    "\n",
    "a = [1,2,3,4,5]\n",
    "b = [6,7,3,4,-1]\n",
    "\n",
    "mults = []\n",
    "\n",
    "for i in a:\n",
    "    for j in b:\n",
    "       mults.append(i*j) "
   ]
  },
  {
   "cell_type": "code",
   "execution_count": 149,
   "metadata": {
    "code_folding": []
   },
   "outputs": [
    {
     "data": {
      "text/plain": [
       "False"
      ]
     },
     "execution_count": 149,
     "metadata": {},
     "output_type": "execute_result"
    }
   ],
   "source": [
    "# list comp\n",
    "\n",
    "mult2 = [i*j for i in a for j in b]\n",
    "\n",
    "mult == mult2"
   ]
  },
  {
   "cell_type": "markdown",
   "metadata": {},
   "source": [
    "### flattening a list of lists into a single list\n"
   ]
  },
  {
   "cell_type": "code",
   "execution_count": 150,
   "metadata": {},
   "outputs": [],
   "source": [
    "# for loop\n",
    "\n",
    "a = [[1,2,3,4,42,4,3,2],[4,2,3,9,5,83,8,2,9,0,3], [4,8,15,16,23,42]]\n",
    "\n",
    "newList = []\n",
    "for sub in a:\n",
    "    for i in sub:\n",
    "        newList.append(i)"
   ]
  },
  {
   "cell_type": "code",
   "execution_count": 151,
   "metadata": {},
   "outputs": [
    {
     "data": {
      "text/plain": [
       "True"
      ]
     },
     "execution_count": 151,
     "metadata": {},
     "output_type": "execute_result"
    }
   ],
   "source": [
    "# list comp\n",
    "newList2 = [i for sub in a for i in sub]\n",
    "\n",
    "newList == newList2"
   ]
  },
  {
   "cell_type": "markdown",
   "metadata": {},
   "source": [
    "### making a list of all possible playing cards"
   ]
  },
  {
   "cell_type": "code",
   "execution_count": 152,
   "metadata": {},
   "outputs": [
    {
     "name": "stdout",
     "output_type": "stream",
     "text": [
      "['A of Hearts', 'K of Hearts', 'Q of Hearts', 'J of Hearts', '10 of Hearts', '9 of Hearts', '8 of Hearts', '7 of Hearts', '6 of Hearts', '5 of Hearts', '4 of Hearts', '3 of Hearts', '2 of Hearts', 'A of Spades', 'K of Spades', 'Q of Spades', 'J of Spades', '10 of Spades', '9 of Spades', '8 of Spades', '7 of Spades', '6 of Spades', '5 of Spades', '4 of Spades', '3 of Spades', '2 of Spades', 'A of Diamond', 'K of Diamond', 'Q of Diamond', 'J of Diamond', '10 of Diamond', '9 of Diamond', '8 of Diamond', '7 of Diamond', '6 of Diamond', '5 of Diamond', '4 of Diamond', '3 of Diamond', '2 of Diamond', 'A of Clubs', 'K of Clubs', 'Q of Clubs', 'J of Clubs', '10 of Clubs', '9 of Clubs', '8 of Clubs', '7 of Clubs', '6 of Clubs', '5 of Clubs', '4 of Clubs', '3 of Clubs', '2 of Clubs']\n"
     ]
    },
    {
     "data": {
      "text/plain": [
       "False"
      ]
     },
     "execution_count": 152,
     "metadata": {},
     "output_type": "execute_result"
    }
   ],
   "source": [
    "suits = [\"Hearts\", \"Spades\", \"Diamond\", \"Clubs\"]\n",
    "cards = [\"A\",\"K\",\"Q\",\"J\", \"10\", \"9\", \"8\", \"7\", \"6\", \"5\", \"4\", \"3\", \"2\"]\n",
    "\n",
    "deck = []\n",
    "for suit in suits:\n",
    "    for card in cards:\n",
    "        deck.append(suit+card)\n",
    "        \n",
    "        \n",
    "#list comp\n",
    "\n",
    "deck2 = [card + \" of \" + suit for suit in suits for card in cards]\n",
    "\n",
    "print(deck2)\n",
    "\n",
    "deck == deck2"
   ]
  },
  {
   "cell_type": "markdown",
   "metadata": {},
   "source": [
    "### Words with e's\n",
    "\n",
    "You can also include boolean statements like if/else in your list comprehension."
   ]
  },
  {
   "cell_type": "code",
   "execution_count": 153,
   "metadata": {},
   "outputs": [],
   "source": [
    "words = [\"Hello\", \"Mother\", \"hello\", \"father\", \"fleas\", \"ticks\", \"mosquitos\", \"really\", \"bother\"]\n",
    "\n",
    "es = []\n",
    "\n",
    "for word in words:\n",
    "    if \"e\" in word.lower():\n",
    "        es.append(word)"
   ]
  },
  {
   "cell_type": "code",
   "execution_count": 154,
   "metadata": {},
   "outputs": [
    {
     "data": {
      "text/plain": [
       "True"
      ]
     },
     "execution_count": 154,
     "metadata": {},
     "output_type": "execute_result"
    }
   ],
   "source": [
    "es2 = [word for word in words if \"e\" in word.lower()]\n",
    "\n",
    "es == es2"
   ]
  },
  {
   "cell_type": "markdown",
   "metadata": {},
   "source": [
    "### Using list comp with sklearn\n",
    "\n",
    "You can use list comprehension with all sorts of functions. For example, you can use it to create a bunch of KMeans models and calculate their silhouette scores."
   ]
  },
  {
   "cell_type": "code",
   "execution_count": 155,
   "metadata": {},
   "outputs": [
    {
     "name": "stdout",
     "output_type": "stream",
     "text": [
      "[0.4342031414710615, 0.5368423138393504, 0.6513061716958818, 0.616849785320789, 0.5466131448314617, 0.5049064016625989, 0.45263839701273045, 0.35389348907536333]\n",
      "\n",
      "The maximum silhouette score is:  0.6513061716958818\n"
     ]
    }
   ],
   "source": [
    "data = pd.read_csv(\"https://raw.githubusercontent.com/cmparlettpelleriti/CPSC392ParlettPelleriti/master/Data/programmers2.csv\")\n",
    "\n",
    "kmod = KMeans()\n",
    "\n",
    "kms = [KMeans(n_clusters = k).fit(data) for k in range(2,10)]\n",
    "\n",
    "silhouettes = [silhouette_score(data,model.predict(data)) for model in kms]\n",
    "\n",
    "# silhouettes = [silhouette_score(data,KMeans(n_clusters = k).fit_predict(data)) for k in range(2,10)]\n",
    "\n",
    "print(silhouettes)\n",
    "\n",
    "print(\"\\nThe maximum silhouette score is: \", max(silhouettes))"
   ]
  },
  {
   "cell_type": "markdown",
   "metadata": {},
   "source": [
    "## Your Turn\n",
    "\n",
    "use the `prime()` function below, as well as list comprehension to create a list called `primes` that contains all the prime numbers between 3 and 1000.\n",
    "<img src=\"https://drive.google.com/uc?export=view&id=1ghyQPx1N8dmU3MV4TrANvqNhGwnLni72\" width = 200px />"
   ]
  },
  {
   "cell_type": "code",
   "execution_count": null,
   "metadata": {},
   "outputs": [],
   "source": [
    "def prime(n = 10):\n",
    "    if n < 2:\n",
    "        return(False)\n",
    "    if n == 2:\n",
    "        return(True)\n",
    "    for div in range(2,n):\n",
    "        if n%div == 0:\n",
    "            return(False)\n",
    "    return(True)\n",
    "\n",
    "primes = ###\n"
   ]
  },
  {
   "cell_type": "markdown",
   "metadata": {},
   "source": [
    "Use list comprehension to turn this list of numbers, into a list of strings (for example if the list is [1,2,3] you want to return [\"1\", \"2\", \"3\"]).\n",
    "<img src=\"https://drive.google.com/uc?export=view&id=1ghyQPx1N8dmU3MV4TrANvqNhGwnLni72\" width = 200px />"
   ]
  },
  {
   "cell_type": "code",
   "execution_count": null,
   "metadata": {},
   "outputs": [],
   "source": [
    "nums = [1,1,3,5,8,13]\n",
    "string_nums = ###"
   ]
  },
  {
   "cell_type": "markdown",
   "metadata": {},
   "source": [
    "Use list comprehension to create a list of ONLY words from `sentence` that have an even number of letters.\n",
    "<img src=\"https://drive.google.com/uc?export=view&id=1ghyQPx1N8dmU3MV4TrANvqNhGwnLni72\" width = 200px />"
   ]
  },
  {
   "cell_type": "code",
   "execution_count": null,
   "metadata": {},
   "outputs": [],
   "source": [
    "sentence = \"Lorem ipsum dolor sit amet consectetur adipiscing elit sed do eiusmod tempor incididunt ut labore et dolore magna aliqua Ut enim ad minim veniam quis nostrud exercitation ullamco laboris nisi ut aliquip ex ea commodo consequat Duis aute irure dolor in reprehenderit in voluptate velit esse cillum dolore eu fugiat nulla pariatur Excepteur sint occaecat cupidatat non proident sunt in culpa qui officia deserunt mollit anim id est laborum\"\n",
    "\n",
    "even_words = ###\n"
   ]
  },
  {
   "cell_type": "markdown",
   "metadata": {},
   "source": [
    "# Pandas Data Frames\n",
    "\n",
    "Data frames are a way to store data in python. It's similar to a single spreadsheet which contains rows (observations) and columns (features).\n",
    "\n",
    "You can grab the size of the data frame with `.shape` which gives you the number of rows, and columns in the data frame."
   ]
  },
  {
   "cell_type": "code",
   "execution_count": 157,
   "metadata": {},
   "outputs": [
    {
     "data": {
      "text/plain": [
       "(600, 2)"
      ]
     },
     "execution_count": 157,
     "metadata": {},
     "output_type": "execute_result"
    }
   ],
   "source": [
    "data = pd.read_csv(\"https://raw.githubusercontent.com/cmparlettpelleriti/CPSC392ParlettPelleriti/master/Data/KMEM4.csv\")\n",
    "\n",
    "data.shape"
   ]
  },
  {
   "cell_type": "markdown",
   "metadata": {},
   "source": [
    "To see a small # of rows of your data frame, use `.head()`"
   ]
  },
  {
   "cell_type": "code",
   "execution_count": 158,
   "metadata": {},
   "outputs": [
    {
     "data": {
      "text/html": [
       "<div>\n",
       "<style scoped>\n",
       "    .dataframe tbody tr th:only-of-type {\n",
       "        vertical-align: middle;\n",
       "    }\n",
       "\n",
       "    .dataframe tbody tr th {\n",
       "        vertical-align: top;\n",
       "    }\n",
       "\n",
       "    .dataframe thead th {\n",
       "        text-align: right;\n",
       "    }\n",
       "</style>\n",
       "<table border=\"1\" class=\"dataframe\">\n",
       "  <thead>\n",
       "    <tr style=\"text-align: right;\">\n",
       "      <th></th>\n",
       "      <th>x</th>\n",
       "      <th>y</th>\n",
       "    </tr>\n",
       "  </thead>\n",
       "  <tbody>\n",
       "    <tr>\n",
       "      <th>0</th>\n",
       "      <td>-0.006848</td>\n",
       "      <td>0.395527</td>\n",
       "    </tr>\n",
       "    <tr>\n",
       "      <th>1</th>\n",
       "      <td>0.314820</td>\n",
       "      <td>-0.289261</td>\n",
       "    </tr>\n",
       "    <tr>\n",
       "      <th>2</th>\n",
       "      <td>0.171705</td>\n",
       "      <td>1.078077</td>\n",
       "    </tr>\n",
       "    <tr>\n",
       "      <th>3</th>\n",
       "      <td>-1.203661</td>\n",
       "      <td>1.325926</td>\n",
       "    </tr>\n",
       "    <tr>\n",
       "      <th>4</th>\n",
       "      <td>-0.179379</td>\n",
       "      <td>-0.036615</td>\n",
       "    </tr>\n",
       "  </tbody>\n",
       "</table>\n",
       "</div>"
      ],
      "text/plain": [
       "          x         y\n",
       "0 -0.006848  0.395527\n",
       "1  0.314820 -0.289261\n",
       "2  0.171705  1.078077\n",
       "3 -1.203661  1.325926\n",
       "4 -0.179379 -0.036615"
      ]
     },
     "execution_count": 158,
     "metadata": {},
     "output_type": "execute_result"
    }
   ],
   "source": [
    "data.head()"
   ]
  },
  {
   "cell_type": "markdown",
   "metadata": {},
   "source": [
    "To grab columns from a data frame you can use multiple ways:"
   ]
  },
  {
   "cell_type": "code",
   "execution_count": 159,
   "metadata": {},
   "outputs": [
    {
     "data": {
      "text/plain": [
       "0     -0.006848\n",
       "1      0.314820\n",
       "2      0.171705\n",
       "3     -1.203661\n",
       "4     -0.179379\n",
       "         ...   \n",
       "595    4.189792\n",
       "596   -4.249038\n",
       "597    3.411690\n",
       "598    3.629434\n",
       "599   -4.904774\n",
       "Name: x, Length: 600, dtype: float64"
      ]
     },
     "execution_count": 159,
     "metadata": {},
     "output_type": "execute_result"
    }
   ],
   "source": [
    "data.x"
   ]
  },
  {
   "cell_type": "code",
   "execution_count": 160,
   "metadata": {},
   "outputs": [
    {
     "data": {
      "text/plain": [
       "0     -0.006848\n",
       "1      0.314820\n",
       "2      0.171705\n",
       "3     -1.203661\n",
       "4     -0.179379\n",
       "         ...   \n",
       "595    4.189792\n",
       "596   -4.249038\n",
       "597    3.411690\n",
       "598    3.629434\n",
       "599   -4.904774\n",
       "Name: x, Length: 600, dtype: float64"
      ]
     },
     "execution_count": 160,
     "metadata": {},
     "output_type": "execute_result"
    }
   ],
   "source": [
    "data[\"x\"]"
   ]
  },
  {
   "cell_type": "code",
   "execution_count": 161,
   "metadata": {},
   "outputs": [
    {
     "data": {
      "text/plain": [
       "0     -0.006848\n",
       "1      0.314820\n",
       "2      0.171705\n",
       "3     -1.203661\n",
       "4     -0.179379\n",
       "         ...   \n",
       "595    4.189792\n",
       "596   -4.249038\n",
       "597    3.411690\n",
       "598    3.629434\n",
       "599   -4.904774\n",
       "Name: x, Length: 600, dtype: float64"
      ]
     },
     "execution_count": 161,
     "metadata": {},
     "output_type": "execute_result"
    }
   ],
   "source": [
    "data.iloc[:,0]"
   ]
  },
  {
   "cell_type": "code",
   "execution_count": 162,
   "metadata": {},
   "outputs": [
    {
     "data": {
      "text/plain": [
       "0     -0.006848\n",
       "1      0.314820\n",
       "2      0.171705\n",
       "3     -1.203661\n",
       "4     -0.179379\n",
       "         ...   \n",
       "595    4.189792\n",
       "596   -4.249038\n",
       "597    3.411690\n",
       "598    3.629434\n",
       "599   -4.904774\n",
       "Name: x, Length: 600, dtype: float64"
      ]
     },
     "execution_count": 162,
     "metadata": {},
     "output_type": "execute_result"
    }
   ],
   "source": [
    "data.loc[:, \"x\"]"
   ]
  },
  {
   "cell_type": "markdown",
   "metadata": {},
   "source": [
    "To acces rows from a data frame, we'll often use `.loc[]` or `.iloc[]`. You can remember the difference by telling yourself that the `i` in `.iloc[]` stands for integer/index, because `.iloc[]` takes indices/integers, whereas `.loc[]` can take booleans, and labels/strings.\n",
    "\n",
    "Let's use `.loc[]` to grab rows 19-25 (assuming first row is 0) from `data`."
   ]
  },
  {
   "cell_type": "code",
   "execution_count": 163,
   "metadata": {},
   "outputs": [
    {
     "data": {
      "text/html": [
       "<div>\n",
       "<style scoped>\n",
       "    .dataframe tbody tr th:only-of-type {\n",
       "        vertical-align: middle;\n",
       "    }\n",
       "\n",
       "    .dataframe tbody tr th {\n",
       "        vertical-align: top;\n",
       "    }\n",
       "\n",
       "    .dataframe thead th {\n",
       "        text-align: right;\n",
       "    }\n",
       "</style>\n",
       "<table border=\"1\" class=\"dataframe\">\n",
       "  <thead>\n",
       "    <tr style=\"text-align: right;\">\n",
       "      <th></th>\n",
       "      <th>x</th>\n",
       "      <th>y</th>\n",
       "    </tr>\n",
       "  </thead>\n",
       "  <tbody>\n",
       "    <tr>\n",
       "      <th>19</th>\n",
       "      <td>-0.746738</td>\n",
       "      <td>-0.440733</td>\n",
       "    </tr>\n",
       "    <tr>\n",
       "      <th>20</th>\n",
       "      <td>1.524822</td>\n",
       "      <td>-1.256318</td>\n",
       "    </tr>\n",
       "    <tr>\n",
       "      <th>21</th>\n",
       "      <td>-0.728119</td>\n",
       "      <td>-0.015010</td>\n",
       "    </tr>\n",
       "    <tr>\n",
       "      <th>22</th>\n",
       "      <td>0.914411</td>\n",
       "      <td>-1.748031</td>\n",
       "    </tr>\n",
       "    <tr>\n",
       "      <th>23</th>\n",
       "      <td>-0.491472</td>\n",
       "      <td>1.115153</td>\n",
       "    </tr>\n",
       "    <tr>\n",
       "      <th>24</th>\n",
       "      <td>0.597467</td>\n",
       "      <td>-1.437617</td>\n",
       "    </tr>\n",
       "    <tr>\n",
       "      <th>25</th>\n",
       "      <td>-0.875947</td>\n",
       "      <td>0.582450</td>\n",
       "    </tr>\n",
       "  </tbody>\n",
       "</table>\n",
       "</div>"
      ],
      "text/plain": [
       "           x         y\n",
       "19 -0.746738 -0.440733\n",
       "20  1.524822 -1.256318\n",
       "21 -0.728119 -0.015010\n",
       "22  0.914411 -1.748031\n",
       "23 -0.491472  1.115153\n",
       "24  0.597467 -1.437617\n",
       "25 -0.875947  0.582450"
      ]
     },
     "execution_count": 163,
     "metadata": {},
     "output_type": "execute_result"
    }
   ],
   "source": [
    "data.iloc[19:26,] # remember it STARTS from the first number and goes up to BUT NOT INCLUDING the second"
   ]
  },
  {
   "cell_type": "markdown",
   "metadata": {},
   "source": [
    "Now let's grab only the rows where x > 3, and y > 3."
   ]
  },
  {
   "cell_type": "code",
   "execution_count": 164,
   "metadata": {},
   "outputs": [
    {
     "data": {
      "text/html": [
       "<div>\n",
       "<style scoped>\n",
       "    .dataframe tbody tr th:only-of-type {\n",
       "        vertical-align: middle;\n",
       "    }\n",
       "\n",
       "    .dataframe tbody tr th {\n",
       "        vertical-align: top;\n",
       "    }\n",
       "\n",
       "    .dataframe thead th {\n",
       "        text-align: right;\n",
       "    }\n",
       "</style>\n",
       "<table border=\"1\" class=\"dataframe\">\n",
       "  <thead>\n",
       "    <tr style=\"text-align: right;\">\n",
       "      <th></th>\n",
       "      <th>x</th>\n",
       "      <th>y</th>\n",
       "    </tr>\n",
       "  </thead>\n",
       "  <tbody>\n",
       "    <tr>\n",
       "      <th>128</th>\n",
       "      <td>3.457686</td>\n",
       "      <td>3.200131</td>\n",
       "    </tr>\n",
       "    <tr>\n",
       "      <th>140</th>\n",
       "      <td>3.408910</td>\n",
       "      <td>3.062241</td>\n",
       "    </tr>\n",
       "    <tr>\n",
       "      <th>201</th>\n",
       "      <td>3.067726</td>\n",
       "      <td>3.221080</td>\n",
       "    </tr>\n",
       "    <tr>\n",
       "      <th>272</th>\n",
       "      <td>3.711039</td>\n",
       "      <td>3.285028</td>\n",
       "    </tr>\n",
       "    <tr>\n",
       "      <th>313</th>\n",
       "      <td>3.141992</td>\n",
       "      <td>3.761917</td>\n",
       "    </tr>\n",
       "    <tr>\n",
       "      <th>361</th>\n",
       "      <td>3.706717</td>\n",
       "      <td>3.030354</td>\n",
       "    </tr>\n",
       "    <tr>\n",
       "      <th>422</th>\n",
       "      <td>3.486926</td>\n",
       "      <td>3.055562</td>\n",
       "    </tr>\n",
       "    <tr>\n",
       "      <th>436</th>\n",
       "      <td>3.002480</td>\n",
       "      <td>3.544937</td>\n",
       "    </tr>\n",
       "    <tr>\n",
       "      <th>471</th>\n",
       "      <td>3.012580</td>\n",
       "      <td>3.290013</td>\n",
       "    </tr>\n",
       "    <tr>\n",
       "      <th>554</th>\n",
       "      <td>3.275193</td>\n",
       "      <td>3.012374</td>\n",
       "    </tr>\n",
       "    <tr>\n",
       "      <th>583</th>\n",
       "      <td>3.313295</td>\n",
       "      <td>3.404577</td>\n",
       "    </tr>\n",
       "    <tr>\n",
       "      <th>592</th>\n",
       "      <td>3.071065</td>\n",
       "      <td>3.151695</td>\n",
       "    </tr>\n",
       "  </tbody>\n",
       "</table>\n",
       "</div>"
      ],
      "text/plain": [
       "            x         y\n",
       "128  3.457686  3.200131\n",
       "140  3.408910  3.062241\n",
       "201  3.067726  3.221080\n",
       "272  3.711039  3.285028\n",
       "313  3.141992  3.761917\n",
       "361  3.706717  3.030354\n",
       "422  3.486926  3.055562\n",
       "436  3.002480  3.544937\n",
       "471  3.012580  3.290013\n",
       "554  3.275193  3.012374\n",
       "583  3.313295  3.404577\n",
       "592  3.071065  3.151695"
      ]
     },
     "execution_count": 164,
     "metadata": {},
     "output_type": "execute_result"
    }
   ],
   "source": [
    "gt3 = (data.x > 3) & (data.y > 3)\n",
    "\n",
    "data.loc[gt3]"
   ]
  },
  {
   "cell_type": "markdown",
   "metadata": {},
   "source": [
    "There are TONS of useful data frame functions, so I'll demonstrate just a few:\n"
   ]
  },
  {
   "cell_type": "code",
   "execution_count": 165,
   "metadata": {},
   "outputs": [
    {
     "data": {
      "text/plain": [
       "x   -0.125429\n",
       "y    0.695387\n",
       "dtype: float64"
      ]
     },
     "execution_count": 165,
     "metadata": {},
     "output_type": "execute_result"
    }
   ],
   "source": [
    "# grab the mean of columns\n",
    "\n",
    "data.mean()"
   ]
  },
  {
   "cell_type": "code",
   "execution_count": 166,
   "metadata": {},
   "outputs": [
    {
     "data": {
      "text/plain": [
       "x    4.976464\n",
       "y    4.979621\n",
       "dtype: float64"
      ]
     },
     "execution_count": 166,
     "metadata": {},
     "output_type": "execute_result"
    }
   ],
   "source": [
    "# grab the max of the columns\n",
    "\n",
    "data.max()"
   ]
  },
  {
   "cell_type": "code",
   "execution_count": 167,
   "metadata": {},
   "outputs": [
    {
     "data": {
      "text/plain": [
       "Index(['x', 'y'], dtype='object')"
      ]
     },
     "execution_count": 167,
     "metadata": {},
     "output_type": "execute_result"
    }
   ],
   "source": [
    "# what columns are in my df?\n",
    "\n",
    "data.columns"
   ]
  },
  {
   "cell_type": "code",
   "execution_count": 168,
   "metadata": {},
   "outputs": [],
   "source": [
    "# drop missing values\n",
    "\n",
    "data = data.dropna()"
   ]
  },
  {
   "cell_type": "code",
   "execution_count": 169,
   "metadata": {},
   "outputs": [
    {
     "data": {
      "text/html": [
       "<div>\n",
       "<style scoped>\n",
       "    .dataframe tbody tr th:only-of-type {\n",
       "        vertical-align: middle;\n",
       "    }\n",
       "\n",
       "    .dataframe tbody tr th {\n",
       "        vertical-align: top;\n",
       "    }\n",
       "\n",
       "    .dataframe thead th {\n",
       "        text-align: right;\n",
       "    }\n",
       "</style>\n",
       "<table border=\"1\" class=\"dataframe\">\n",
       "  <thead>\n",
       "    <tr style=\"text-align: right;\">\n",
       "      <th></th>\n",
       "      <th>py</th>\n",
       "      <th>r</th>\n",
       "      <th>c</th>\n",
       "      <th>sql</th>\n",
       "      <th>js</th>\n",
       "    </tr>\n",
       "    <tr>\n",
       "      <th>Assignment</th>\n",
       "      <th></th>\n",
       "      <th></th>\n",
       "      <th></th>\n",
       "      <th></th>\n",
       "      <th></th>\n",
       "    </tr>\n",
       "  </thead>\n",
       "  <tbody>\n",
       "    <tr>\n",
       "      <th>A</th>\n",
       "      <td>89.750298</td>\n",
       "      <td>75.704910</td>\n",
       "      <td>18.941242</td>\n",
       "      <td>24.833986</td>\n",
       "      <td>5.055579</td>\n",
       "    </tr>\n",
       "    <tr>\n",
       "      <th>B</th>\n",
       "      <td>69.799266</td>\n",
       "      <td>69.569211</td>\n",
       "      <td>10.891900</td>\n",
       "      <td>64.164052</td>\n",
       "      <td>9.186321</td>\n",
       "    </tr>\n",
       "    <tr>\n",
       "      <th>C</th>\n",
       "      <td>96.017893</td>\n",
       "      <td>21.015196</td>\n",
       "      <td>87.057530</td>\n",
       "      <td>22.728009</td>\n",
       "      <td>31.075785</td>\n",
       "    </tr>\n",
       "    <tr>\n",
       "      <th>D</th>\n",
       "      <td>18.554134</td>\n",
       "      <td>22.925694</td>\n",
       "      <td>29.934704</td>\n",
       "      <td>33.196274</td>\n",
       "      <td>18.982596</td>\n",
       "    </tr>\n",
       "    <tr>\n",
       "      <th>E</th>\n",
       "      <td>63.830289</td>\n",
       "      <td>20.361404</td>\n",
       "      <td>14.394041</td>\n",
       "      <td>87.165838</td>\n",
       "      <td>92.782235</td>\n",
       "    </tr>\n",
       "  </tbody>\n",
       "</table>\n",
       "</div>"
      ],
      "text/plain": [
       "                   py          r          c        sql         js\n",
       "Assignment                                                       \n",
       "A           89.750298  75.704910  18.941242  24.833986   5.055579\n",
       "B           69.799266  69.569211  10.891900  64.164052   9.186321\n",
       "C           96.017893  21.015196  87.057530  22.728009  31.075785\n",
       "D           18.554134  22.925694  29.934704  33.196274  18.982596\n",
       "E           63.830289  20.361404  14.394041  87.165838  92.782235"
      ]
     },
     "execution_count": 169,
     "metadata": {},
     "output_type": "execute_result"
    }
   ],
   "source": [
    "# groupb data frame by cluster assignment and then get the mean for each cluster\n",
    "\n",
    "prog = pd.read_csv(\"https://raw.githubusercontent.com/cmparlettpelleriti/CPSC392ParlettPelleriti/master/Data/programmers.csv\")\n",
    "prog[\"Assignment\"] = np.repeat([\"A\", \"B\", \"C\", \"D\", \"E\"],50)\n",
    "\n",
    "prog.groupby(\"Assignment\").mean() # rows are each cluster, columns represent the different features"
   ]
  },
  {
   "cell_type": "markdown",
   "metadata": {},
   "source": [
    "## Your Turn\n",
    "\n",
    "Using the pandas skills you've learned in class and reviewed here, what is the mean dancibility for each artist in the `popDivas` dataset? Who has the highest average danceability?\n",
    "<img src=\"https://drive.google.com/uc?export=view&id=1ghyQPx1N8dmU3MV4TrANvqNhGwnLni72\" width = 200px />"
   ]
  },
  {
   "cell_type": "code",
   "execution_count": 170,
   "metadata": {},
   "outputs": [
    {
     "data": {
      "text/html": [
       "<div>\n",
       "<style scoped>\n",
       "    .dataframe tbody tr th:only-of-type {\n",
       "        vertical-align: middle;\n",
       "    }\n",
       "\n",
       "    .dataframe tbody tr th {\n",
       "        vertical-align: top;\n",
       "    }\n",
       "\n",
       "    .dataframe thead th {\n",
       "        text-align: right;\n",
       "    }\n",
       "</style>\n",
       "<table border=\"1\" class=\"dataframe\">\n",
       "  <thead>\n",
       "    <tr style=\"text-align: right;\">\n",
       "      <th></th>\n",
       "      <th>Unnamed: 0</th>\n",
       "      <th>artist_name</th>\n",
       "      <th>danceability</th>\n",
       "      <th>energy</th>\n",
       "      <th>key</th>\n",
       "      <th>loudness</th>\n",
       "      <th>mode</th>\n",
       "      <th>speechiness</th>\n",
       "      <th>acousticness</th>\n",
       "      <th>instrumentalness</th>\n",
       "      <th>liveness</th>\n",
       "      <th>valence</th>\n",
       "      <th>duration_ms</th>\n",
       "      <th>track_name</th>\n",
       "    </tr>\n",
       "  </thead>\n",
       "  <tbody>\n",
       "    <tr>\n",
       "      <th>0</th>\n",
       "      <td>1</td>\n",
       "      <td>Beyoncé</td>\n",
       "      <td>0.386</td>\n",
       "      <td>0.28800</td>\n",
       "      <td>1</td>\n",
       "      <td>-18.513</td>\n",
       "      <td>1</td>\n",
       "      <td>0.0602</td>\n",
       "      <td>0.533</td>\n",
       "      <td>0.01670</td>\n",
       "      <td>0.1410</td>\n",
       "      <td>0.399</td>\n",
       "      <td>43850</td>\n",
       "      <td>balance (mufasa interlude)</td>\n",
       "    </tr>\n",
       "    <tr>\n",
       "      <th>1</th>\n",
       "      <td>2</td>\n",
       "      <td>Beyoncé</td>\n",
       "      <td>0.484</td>\n",
       "      <td>0.36300</td>\n",
       "      <td>5</td>\n",
       "      <td>-8.094</td>\n",
       "      <td>0</td>\n",
       "      <td>0.0368</td>\n",
       "      <td>0.645</td>\n",
       "      <td>0.00000</td>\n",
       "      <td>0.1250</td>\n",
       "      <td>0.201</td>\n",
       "      <td>226479</td>\n",
       "      <td>BIGGER</td>\n",
       "    </tr>\n",
       "    <tr>\n",
       "      <th>2</th>\n",
       "      <td>3</td>\n",
       "      <td>Beyoncé</td>\n",
       "      <td>0.537</td>\n",
       "      <td>0.24700</td>\n",
       "      <td>2</td>\n",
       "      <td>-17.750</td>\n",
       "      <td>1</td>\n",
       "      <td>0.0793</td>\n",
       "      <td>0.199</td>\n",
       "      <td>0.00001</td>\n",
       "      <td>0.4230</td>\n",
       "      <td>0.170</td>\n",
       "      <td>46566</td>\n",
       "      <td>the stars (mufasa interlude)</td>\n",
       "    </tr>\n",
       "    <tr>\n",
       "      <th>3</th>\n",
       "      <td>4</td>\n",
       "      <td>Beyoncé</td>\n",
       "      <td>0.672</td>\n",
       "      <td>0.69600</td>\n",
       "      <td>4</td>\n",
       "      <td>-6.693</td>\n",
       "      <td>0</td>\n",
       "      <td>0.1770</td>\n",
       "      <td>0.200</td>\n",
       "      <td>0.02750</td>\n",
       "      <td>0.0736</td>\n",
       "      <td>0.642</td>\n",
       "      <td>162353</td>\n",
       "      <td>FIND YOUR WAY BACK</td>\n",
       "    </tr>\n",
       "    <tr>\n",
       "      <th>4</th>\n",
       "      <td>5</td>\n",
       "      <td>Beyoncé</td>\n",
       "      <td>0.000</td>\n",
       "      <td>0.00515</td>\n",
       "      <td>9</td>\n",
       "      <td>-22.612</td>\n",
       "      <td>0</td>\n",
       "      <td>0.0000</td>\n",
       "      <td>0.524</td>\n",
       "      <td>0.95000</td>\n",
       "      <td>0.1140</td>\n",
       "      <td>0.000</td>\n",
       "      <td>13853</td>\n",
       "      <td>uncle scar (scar interlude)</td>\n",
       "    </tr>\n",
       "  </tbody>\n",
       "</table>\n",
       "</div>"
      ],
      "text/plain": [
       "   Unnamed: 0 artist_name  danceability   energy  key  loudness  mode  \\\n",
       "0           1     Beyoncé         0.386  0.28800    1   -18.513     1   \n",
       "1           2     Beyoncé         0.484  0.36300    5    -8.094     0   \n",
       "2           3     Beyoncé         0.537  0.24700    2   -17.750     1   \n",
       "3           4     Beyoncé         0.672  0.69600    4    -6.693     0   \n",
       "4           5     Beyoncé         0.000  0.00515    9   -22.612     0   \n",
       "\n",
       "   speechiness  acousticness  instrumentalness  liveness  valence  \\\n",
       "0       0.0602         0.533           0.01670    0.1410    0.399   \n",
       "1       0.0368         0.645           0.00000    0.1250    0.201   \n",
       "2       0.0793         0.199           0.00001    0.4230    0.170   \n",
       "3       0.1770         0.200           0.02750    0.0736    0.642   \n",
       "4       0.0000         0.524           0.95000    0.1140    0.000   \n",
       "\n",
       "   duration_ms                    track_name  \n",
       "0        43850    balance (mufasa interlude)  \n",
       "1       226479                        BIGGER  \n",
       "2        46566  the stars (mufasa interlude)  \n",
       "3       162353            FIND YOUR WAY BACK  \n",
       "4        13853   uncle scar (scar interlude)  "
      ]
     },
     "execution_count": 170,
     "metadata": {},
     "output_type": "execute_result"
    }
   ],
   "source": [
    "popDivas = pd.read_csv(\"https://raw.githubusercontent.com/cmparlettpelleriti/CPSC392ParlettPelleriti/master/Data/PopDivas_data.csv\")\n",
    "popDivas.head()\n",
    "\n",
    "###"
   ]
  },
  {
   "cell_type": "markdown",
   "metadata": {},
   "source": [
    "Grab only the songs that are by Beyonce or Britney Spears, and have an energy score above 0.5.\n",
    "<img src=\"https://drive.google.com/uc?export=view&id=1ghyQPx1N8dmU3MV4TrANvqNhGwnLni72\" width = 200px />"
   ]
  },
  {
   "cell_type": "code",
   "execution_count": null,
   "metadata": {},
   "outputs": [],
   "source": [
    "###"
   ]
  },
  {
   "cell_type": "markdown",
   "metadata": {},
   "source": [
    "# Math with Arrays\n",
    "\n",
    "numpy arrays allow us to do *vectorized* operations. *Vectorized* operations are applied elementwise to each item in an array, rather than to the array as a whole. For example, if we want to get the square of every number in an array, we can say `array**2`. You can see below, that calling `**2` on the array `x` squares each item in `x`."
   ]
  },
  {
   "cell_type": "code",
   "execution_count": 171,
   "metadata": {},
   "outputs": [
    {
     "data": {
      "text/plain": [
       "array([  1,   4,   9,  16,  25, 100])"
      ]
     },
     "execution_count": 171,
     "metadata": {},
     "output_type": "execute_result"
    }
   ],
   "source": [
    "x = np.array([1,2,3,4,5,10])\n",
    "\n",
    "x**2"
   ]
  },
  {
   "cell_type": "markdown",
   "metadata": {},
   "source": [
    "Similarly we can subtract one array from another `a - b`, which will substract the first element of `b` from the first element of `a`, etc."
   ]
  },
  {
   "cell_type": "code",
   "execution_count": 172,
   "metadata": {},
   "outputs": [
    {
     "data": {
      "text/plain": [
       "array([ 0, -2,  5, -1, -4])"
      ]
     },
     "execution_count": 172,
     "metadata": {},
     "output_type": "execute_result"
    }
   ],
   "source": [
    "a = np.array([1,2,3,4,5])\n",
    "b = np.array([1,4,-2,5,9])\n",
    "\n",
    "a-b"
   ]
  },
  {
   "cell_type": "markdown",
   "metadata": {},
   "source": [
    "## Your Turn\n",
    "\n",
    "Using the array knowledge you just reviewed, multiply the arrays `a` and `b` together and then find the sum of those producs.\n",
    "<img src=\"https://drive.google.com/uc?export=view&id=1ghyQPx1N8dmU3MV4TrANvqNhGwnLni72\" width = 200px />"
   ]
  },
  {
   "cell_type": "code",
   "execution_count": 173,
   "metadata": {},
   "outputs": [],
   "source": [
    "###\n"
   ]
  },
  {
   "cell_type": "markdown",
   "metadata": {},
   "source": [
    "# `np.random`\n",
    "\n",
    "`np.random` is a great package that allows us to generate random values from different distributions, or randomly choose items from a collection. The two most common functions we use are `np.random.choice()` and `np.random.normal()`.\n",
    "\n",
    "`np.random.choice()` takes 3 main arguments:\n",
    "\n",
    "- `a`: an array or collection of items to choose from.\n",
    "\n",
    "- `size`: an integer that represents how many items you want to choose/sample from `a`\n",
    "\n",
    "- `replace`: a boolean that tells you whether or not to allow the function to select an item more than once in the sample.\n",
    "\n",
    "\n",
    "`np.random.normal()` takes 3 main arguments as well:\n",
    "\n",
    "- `loc`: the mean of the normal distribution to sample from\n",
    "\n",
    "- `scale`: the standard deviation of the normal distribution to sample from\n",
    "\n",
    "- `size`: the number of samples to draw."
   ]
  },
  {
   "cell_type": "code",
   "execution_count": 174,
   "metadata": {},
   "outputs": [
    {
     "data": {
      "text/plain": [
       "array([ 0.06037281,  2.31980558, -0.05250125,  1.25137367, -1.43488252,\n",
       "        0.01167165,  1.18775872, -1.62549287, -1.96151595,  1.05325513,\n",
       "       -0.19399823, -1.00558654, -0.44203004,  1.44797613, -0.03492908,\n",
       "        0.25743968, -0.23727859,  1.15154034,  1.55350651,  0.59278884,\n",
       "       -0.65779717, -0.69775142, -0.10953791, -0.86086722, -0.41696215,\n",
       "        0.72465504, -1.35365452,  0.31012559, -0.77205588, -0.97903983,\n",
       "        0.1534542 ,  2.47970649,  1.76662198,  0.00626958,  1.52235068,\n",
       "        0.64952245, -0.5347307 , -0.88305475,  0.07496434,  0.31652437,\n",
       "        0.36300013,  1.36468855, -0.56676479, -0.435667  , -0.68701119,\n",
       "       -0.39508733, -0.34959988,  0.69949934,  0.02177523,  0.90734589,\n",
       "       -0.60316481, -1.34394014, -1.0075919 ,  2.04212632,  1.36476542,\n",
       "        1.73822604,  0.69514256,  1.04484113, -0.43117931,  0.07836263,\n",
       "       -1.18226274,  0.1960779 , -0.95705686,  1.29531505, -0.77559543,\n",
       "       -0.17663151,  0.54851995,  0.90502324,  0.81818959, -0.4700864 ,\n",
       "        1.12937955, -0.25805305,  0.82426812,  1.30753525, -1.60068266,\n",
       "        1.62728041, -0.12321529, -0.82861095,  0.04543035, -0.37463416,\n",
       "       -1.01623911, -0.08838203, -0.73502855,  1.56263775, -0.71747477,\n",
       "       -1.27138265, -0.66713145, -0.76316107, -1.39068921, -1.01242918,\n",
       "       -1.10545228, -1.69491001, -0.28647726, -1.01123522,  0.95680611,\n",
       "       -1.25575514,  1.43363536,  0.21201361,  0.03168271,  0.02038967])"
      ]
     },
     "execution_count": 174,
     "metadata": {},
     "output_type": "execute_result"
    }
   ],
   "source": [
    "# draw 100 samples from a standard normal distribution with mean = 0, sd = 1\n",
    "\n",
    "samp100 = np.random.normal(0,1,100)\n",
    "\n",
    "samp100"
   ]
  },
  {
   "cell_type": "code",
   "execution_count": 175,
   "metadata": {},
   "outputs": [
    {
     "data": {
      "text/plain": [
       "array([ 69,  44,  61,  30, 238,  22,  97, 171,  13, 148, 224, 143, 193,\n",
       "         7,  89, 236,   2, 237,  71,  91,  24, 111,  97, 152,  21, 243,\n",
       "       114, 174, 142, 203,  24, 249, 171, 244, 237, 200, 228,  80, 239,\n",
       "       161, 125, 128, 109, 236, 131,  11, 112,  34,  20, 192,  30,  36,\n",
       "        70,  61, 110, 249, 132, 183,  45,  70,  18, 223, 134,  98,  13,\n",
       "        53, 174, 193,  74,  14, 173, 120,  23,  23, 244, 248, 222, 160,\n",
       "       160, 117, 155, 148,  22, 203,  28,  45, 183,   5, 108, 196, 190,\n",
       "        29,   2, 215,  67, 119, 141,  87,  40, 177, 179, 122, 208, 225,\n",
       "        39, 249,  62, 206, 198, 153,  49,  62, 124, 105, 230,  12,  53,\n",
       "        85, 192, 111,  74,  84,  84, 181, 125,  76, 121,  83, 178, 227,\n",
       "        15,  51, 237,  68,  99, 118, 164,  31,  56, 221,  61,  29, 162,\n",
       "       138, 233, 183, 204, 122,  18,  71,  21, 122,  73,  33, 147,  17,\n",
       "       106,  35,  13, 181,  37, 137,  79,  45,  80, 136, 164, 110, 206,\n",
       "        60,  85, 204, 126, 157,  94, 204, 219,  29, 131, 217, 163, 247,\n",
       "       134, 203,  19, 140,  52, 159, 237,  68, 248, 143, 123, 222, 116,\n",
       "       122, 154,  10, 140,   4,  98, 228, 104, 208,  76,  26,  13,  76,\n",
       "       220, 208, 184,  81,  30, 160,  44, 185,  68,  39, 180, 150,   7,\n",
       "        46, 160, 187,  34,  40, 153, 245,  82,  69, 190, 244,  43, 148,\n",
       "        80, 137, 204,  19,   8,  76,  85, 166, 110, 192, 194, 116, 187,\n",
       "       215,  11,  75, 176, 245, 159, 136, 243,  48, 159,  42, 213, 114,\n",
       "        81, 173,  84, 234, 100,  40, 246, 110,  51,  19,  91, 182,  68,\n",
       "       179,  93,  64, 102, 123, 181, 237, 208,  32,   2, 194, 226, 121,\n",
       "       141,  79, 125, 125,   4, 170,  36,  53, 143, 140,  43,  76,   6,\n",
       "        70, 154, 119,  77, 114,  25, 170, 140, 240,  48, 200,  83,  34,\n",
       "       222, 172, 178, 160,  51,  34, 229, 236, 154, 246, 156, 110, 205,\n",
       "       153, 183, 156, 223,  76,  16,  85,  57, 184, 232, 169,   2,   3,\n",
       "        89, 139,  83,  27,  14, 168,  68, 249, 213,  59, 201, 173,  74,\n",
       "        92,  73, 236, 162,  62, 240,  50, 193, 223, 180, 214, 160, 240,\n",
       "       123,  96,  11, 204, 147,  77,  13,  55, 206, 237, 113,  43,  44,\n",
       "        55,  29, 155, 239,  41, 111, 178, 121, 194,  87,  77, 209,  65,\n",
       "       211, 237, 196, 211, 168,  76, 209,   5, 176,  69, 226, 160, 187,\n",
       "        63,  35, 247, 177, 146,  86, 204, 224, 237,  91, 113, 196, 225,\n",
       "       126, 225, 167, 148, 174,  21,  57, 227,  13,  89,  61, 213, 103,\n",
       "        81,  12, 180, 230, 174, 147,  22, 156, 112, 211, 212, 146,  30,\n",
       "        27, 145,  76, 128,  27,  47, 141, 174,  93, 246,  37, 103, 149,\n",
       "        81,  90, 205,  69, 249, 118,   4,  33, 124, 228, 115, 247,  88,\n",
       "       132,   7, 120, 166,  66,  28,  65, 165,  31,  45,   8, 238,  83,\n",
       "       213,  55,  97, 195, 167,  15,  96, 126, 183,   3, 222, 115, 145,\n",
       "       106, 175, 114, 185, 209, 230,  42, 158,  47, 205, 213, 105,  78,\n",
       "        43,  70,  24,  24, 157,  32, 241, 144, 134,  70, 165, 174, 104,\n",
       "       181, 246, 142, 122,  58, 243, 181, 201, 241, 215, 149, 226,  38,\n",
       "        41,  77, 130, 135, 239, 153,  43,  70,  69,  14,  45, 159,   3,\n",
       "       238, 222, 124,   6, 127,  66, 173,   9, 191, 150, 227, 190,  58,\n",
       "       243, 203, 175, 175, 227, 169, 166,  53, 246,  60, 214, 229,  24,\n",
       "        98, 186, 165, 222,  62,  65,  18, 231,  44, 172,   9, 148, 164,\n",
       "       247, 208, 197,   2, 228, 236, 219, 139, 182, 146, 221, 179,   0,\n",
       "       185,  26,   3, 198,  62, 170, 231, 170,   4,  66, 136,  71, 172,\n",
       "       232, 107, 208,  74,  61,  81,  14,  65,   5,  94,  93, 198, 205,\n",
       "        44,   9, 247, 224,   0, 112, 176, 248,  51,  88,   2,  36, 195,\n",
       "       199, 249,  83, 128, 152,  55,  94,  64, 142,  88,  36, 150,  63,\n",
       "       226, 174, 144, 238, 123, 175,  27])"
      ]
     },
     "execution_count": 175,
     "metadata": {},
     "output_type": "execute_result"
    }
   ],
   "source": [
    "# draw 657 samples from `my_list` with replacement\n",
    "\n",
    "my_list = range(0,250)\n",
    "\n",
    "samp657 = np.random.choice(my_list, 657, replace = True)\n",
    "samp657"
   ]
  },
  {
   "cell_type": "code",
   "execution_count": 181,
   "metadata": {},
   "outputs": [
    {
     "name": "stdout",
     "output_type": "stream",
     "text": [
      "[510, 365, 382, 322, 988, 98, 742, 17, 595, 106]\n",
      "[123, 569, 214, 737, 96, 113, 638, 47, 73, 544]\n",
      "[942, 224, 111, 409, 339, 846, 253, 420, 608, 208]\n",
      "[68, 817, 823, 451, 2, 340, 39, 322, 596, 559]\n",
      "[504, 957, 176, 135, 873, 99, 380, 860, 180, 358]\n",
      "[865, 213, 630, 862, 411, 290, 993, 588, 680, 899]\n",
      "[106, 837, 576, 843, 418, 826, 394, 790, 717, 146]\n",
      "[484, 271, 411, 765, 158, 180, 582, 365, 371, 154]\n",
      "[720, 390, 782, 255, 244, 359, 971, 950, 967, 129]\n",
      "[555, 186, 357, 695, 537, 434, 980, 824, 305, 780]\n"
     ]
    }
   ],
   "source": [
    "for i in range(0,10):\n",
    "    np.random.seed(123)\n",
    "    print(list(np.random.choice(range(0,1000), 10, replace = True)))"
   ]
  },
  {
   "cell_type": "markdown",
   "metadata": {},
   "source": [
    "## Your Turn\n",
    "\n",
    "Choose 100 samples from `range(100, 1000)` without replacement.\n",
    "<img src=\"https://drive.google.com/uc?export=view&id=1ghyQPx1N8dmU3MV4TrANvqNhGwnLni72\" width = 200px />"
   ]
  },
  {
   "cell_type": "code",
   "execution_count": 176,
   "metadata": {},
   "outputs": [],
   "source": [
    "###"
   ]
  },
  {
   "cell_type": "markdown",
   "metadata": {},
   "source": [
    "Make a data frame with two columns, `x` and `y`. `x` should be created by randomly sampling 100 samples from a normal distribution with mean = 0, and sd = 1. `y` should be created by randomly sampling 100 samples from a normal distribution with mean = 12, sd = 20.\n",
    "<img src=\"https://drive.google.com/uc?export=view&id=1ghyQPx1N8dmU3MV4TrANvqNhGwnLni72\" width = 200px />"
   ]
  },
  {
   "cell_type": "code",
   "execution_count": 177,
   "metadata": {},
   "outputs": [],
   "source": [
    "###"
   ]
  }
 ],
 "metadata": {
  "hide_input": false,
  "kernelspec": {
   "display_name": "Python 3",
   "language": "python",
   "name": "python3"
  },
  "language_info": {
   "codemirror_mode": {
    "name": "ipython",
    "version": 3
   },
   "file_extension": ".py",
   "mimetype": "text/x-python",
   "name": "python",
   "nbconvert_exporter": "python",
   "pygments_lexer": "ipython3",
   "version": "3.9.1"
  },
  "toc": {
   "base_numbering": 1,
   "nav_menu": {},
   "number_sections": true,
   "sideBar": true,
   "skip_h1_title": false,
   "title_cell": "Table of Contents",
   "title_sidebar": "Contents",
   "toc_cell": false,
   "toc_position": {},
   "toc_section_display": true,
   "toc_window_display": false
  }
 },
 "nbformat": 4,
 "nbformat_minor": 4
}
