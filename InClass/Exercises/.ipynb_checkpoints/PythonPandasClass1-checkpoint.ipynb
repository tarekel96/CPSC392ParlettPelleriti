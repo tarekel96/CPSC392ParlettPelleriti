{
 "cells": [
  {
   "cell_type": "code",
   "execution_count": 1,
   "metadata": {},
   "outputs": [],
   "source": [
    "# import necessary packages here\n",
    "import warnings\n",
    "warnings.filterwarnings('ignore')"
   ]
  },
  {
   "cell_type": "markdown",
   "metadata": {},
   "source": [
    "1. Load the pandas library, and alias it so you can use `pd` instead of typing `pandas` each time you need to access the package.\n",
    "\n",
    "2. Load the penguin and titanic datasets from GitHub. Store them in `penguins` and `titanic` respectively.\n",
    "\n",
    "`\n",
    "penguin_url = 'https://raw.githubusercontent.com/cmparlettpelleriti/CPSC392ParlettPelleriti/master/Data/penguins.csv'\n",
    "titanic_url = 'https://raw.githubusercontent.com/mwaskom/seaborn-data/master/titanic.csv'\n",
    "print(\"done\")\n",
    "`\n",
    "\n",
    "3. Print the head (first 5 or 6 rows) of each data set.\n",
    "\n",
    "4. Store the sex column from the titanic dataset in the variable `sex`. Print it.\n",
    "\n",
    "5. Store the 10th row from the penguin dataset in the variable `penguins_10`. Print it.\n",
    "\n",
    "6. Grab the age of the 12th person in the titanic dataset and store it in the variable `passenger12`. Print it.\n",
    "\n",
    "7. Store the mean age of titanic passengers in the variable `mean_age`, print it.\n",
    "\n",
    "8. Create a new column in `penguins` called `bill_ratio` for the penguin dataset that contains the ratio of bill length to bill depth (in otherwords bill length divided by bill depth). Print out this column.\n",
    "\n",
    "9. Create a new data frame called `lil_boys` that only contains penguins that have a body mass less than 4000 grams. Print the first 4 rows of this dataframe.\n",
    "\n",
    "10. What is the mean bill length for each species of penguin? Store the means in the variables `bl_Adelie`, `bl_Chinstrap` and `bl_Gentoo` respectively. Print them out.\n",
    "\n",
    "11. Which class from the titanic dataset had the highest proportion of surviors? Print out the proportion of people who survived for each class.\n",
    "\n",
    "12. Is there a difference in the average fare paid between males and females in the titanic dataset? Use pandas to find your answer.\n",
    "\n",
    "13. Create a dataframe called `small_penguin` that has all the rows from `penguins` but only the columns `bill_length_mm` ,`bill_depth_mm` , `flipper_length_mm` , and `body_mass_g`"
   ]
  },
  {
   "cell_type": "code",
   "execution_count": 2,
   "metadata": {},
   "outputs": [],
   "source": [
    "### YOUR CODE HERE ###\n",
    "import pandas as pd\n",
    "import numpy as np"
   ]
  },
  {
   "cell_type": "code",
   "execution_count": null,
   "metadata": {},
   "outputs": [],
   "source": [
    "penguin_url = 'https://raw.githubusercontent.com/cmparlettpelleriti/CPSC392ParlettPelleriti/master/Data/penguins.csv'\n",
    "titanic_url = 'https://raw.githubusercontent.com/mwaskom/seaborn-data/master/titanic.csv'\n",
    "penguin_DF = pd.read_csv(penguin_url)\n",
    "titanic_DF = pd.read_csv(titanic_url)\n"
   ]
  }
 ],
 "metadata": {
  "hide_input": false,
  "kernelspec": {
   "display_name": "Python 3",
   "language": "python",
   "name": "python3"
  },
  "language_info": {
   "codemirror_mode": {
    "name": "ipython",
    "version": 3
   },
   "file_extension": ".py",
   "mimetype": "text/x-python",
   "name": "python",
   "nbconvert_exporter": "python",
   "pygments_lexer": "ipython3",
   "version": "3.9.1"
  },
  "toc": {
   "base_numbering": 1,
   "nav_menu": {},
   "number_sections": true,
   "sideBar": true,
   "skip_h1_title": false,
   "title_cell": "Table of Contents",
   "title_sidebar": "Contents",
   "toc_cell": false,
   "toc_position": {},
   "toc_section_display": true,
   "toc_window_display": false
  }
 },
 "nbformat": 4,
 "nbformat_minor": 4
}
